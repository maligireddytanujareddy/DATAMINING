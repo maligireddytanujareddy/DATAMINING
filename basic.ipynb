{
  "cells": [
    {
      "cell_type": "markdown",
      "metadata": {
        "colab_type": "text",
        "id": "view-in-github"
      },
      "source": [
        "<a href=\"https://colab.research.google.com/github/maligireddytanujareddy/DATAMINING/blob/main/basic.ipynb\" target=\"_parent\"><img src=\"https://colab.research.google.com/assets/colab-badge.svg\" alt=\"Open In Colab\"/></a>"
      ]
    },
    {
      "cell_type": "code",
      "execution_count": null,
      "metadata": {
        "id": "5qTZxfAK6kI2"
      },
      "outputs": [],
      "source": [
        "# Importing the modules to access parametres and functions\n",
        "import random \n",
        "import sys\n",
        "import os"
      ]
    },
    {
      "cell_type": "code",
      "execution_count": null,
      "metadata": {
        "colab": {
          "base_uri": "https://localhost:8080/"
        },
        "id": "1QNN4BqL7Dfb",
        "outputId": "4c5ed82a-f5c8-4195-f8d7-e42cca263a13"
      },
      "outputs": [
        {
          "name": "stdout",
          "output_type": "stream",
          "text": [
            "Hello World\n"
          ]
        }
      ],
      "source": [
        "# Checking how print function works\n",
        "print (\"Hello World\")"
      ]
    },
    {
      "cell_type": "code",
      "execution_count": null,
      "metadata": {
        "colab": {
          "base_uri": "https://localhost:8080/"
        },
        "id": "cNA6nV9c7Pj5",
        "outputId": "7d6be0f1-228b-420b-c526-c4313fafb383"
      },
      "outputs": [
        {
          "name": "stdout",
          "output_type": "stream",
          "text": [
            "Tanuja\n"
          ]
        }
      ],
      "source": [
        "#Assigning a label to a variable and printing it\n",
        "name=\"Tanuja\"\n",
        "print(name)"
      ]
    },
    {
      "cell_type": "code",
      "execution_count": null,
      "metadata": {
        "colab": {
          "base_uri": "https://localhost:8080/"
        },
        "id": "ab722OJuJR0I",
        "outputId": "89cf4e03-290b-4df7-b5bb-0243f6e3f903"
      },
      "outputs": [
        {
          "name": "stdout",
          "output_type": "stream",
          "text": [
            "10+2= 12\n",
            "9-3= 6\n",
            "2*2= 4\n",
            "15%3= 0\n",
            "15/3= 5.0\n",
            "2**3= 8\n",
            "20//2= 10\n"
          ]
        }
      ],
      "source": [
        "# Checking the arithmetic operators,exponential calculation and floor division\n",
        "print(\"10+2=\",10+2)\n",
        "print(\"9-3=\",9-3)\n",
        "print(\"2*2=\",2*2)\n",
        "print(\"15%3=\",15%3)\n",
        "print(\"15/3=\",15/3)\n",
        "print(\"2**3=\",2**3)\n",
        "print(\"20//2=\",20//2)\n"
      ]
    },
    {
      "cell_type": "code",
      "execution_count": null,
      "metadata": {
        "colab": {
          "base_uri": "https://localhost:8080/"
        },
        "id": "ZLnZ7wv9VAlW",
        "outputId": "30624bb2-127d-4e5f-eb1f-9db1d70fb97a"
      },
      "outputs": [
        {
          "name": "stdout",
          "output_type": "stream",
          "text": [
            "8+3-6/2+4*7-5= 31.0\n",
            "(8+3-6)/2+4*(7-5)= 10.5\n"
          ]
        }
      ],
      "source": [
        "# Order of operators / and * then + and -\n",
        "print(\"8+3-6/2+4*7-5=\",8+3-6/2+4*7-5)\n",
        "print(\"(8+3-6)/2+4*(7-5)=\",(8+3-6)/2+4*(7-5))\n"
      ]
    },
    {
      "cell_type": "code",
      "execution_count": null,
      "metadata": {
        "colab": {
          "base_uri": "https://localhost:8080/"
        },
        "id": "5MXdMQ7uW_Pf",
        "outputId": "0107cc2f-857e-4278-dbdc-f33b8eab5d75"
      },
      "outputs": [
        {
          "name": "stdout",
          "output_type": "stream",
          "text": [
            "\"I am M.Tanuja Reddy, I am a graduate\n",
            "student in Sanjose state university\" \n"
          ]
        }
      ],
      "source": [
        "# A string is a string of characters surrounded by \" or '\n",
        "# If you must use a \" or ' between the same quote escape it with \\\n",
        "quote = \"\\\"I am M.Tanuja Reddy,\"\n",
        " \n",
        "# A multi-line quote\n",
        "multi_line_quote = ''' I am a graduate\n",
        "student in Sanjose state university\" '''\n",
        " \n",
        "print(quote + multi_line_quote)\n"
      ]
    },
    {
      "cell_type": "code",
      "execution_count": null,
      "metadata": {
        "colab": {
          "base_uri": "https://localhost:8080/"
        },
        "id": "l--_99xbFeJK",
        "outputId": "f65518da-dd9c-435c-83d7-96b736de4f7e"
      },
      "outputs": [
        {
          "name": "stdout",
          "output_type": "stream",
          "text": [
            "I graduated in 2021 \"I am M.Tanuja Reddy,  I am a graduate\n",
            "student in Sanjose state university\" \n"
          ]
        }
      ],
      "source": [
        "# to get a string in outputs use %s\n",
        "print(\"%s %s %s\" %('I graduated in 2021',quote,multi_line_quote))"
      ]
    },
    {
      "cell_type": "code",
      "execution_count": null,
      "metadata": {
        "colab": {
          "base_uri": "https://localhost:8080/"
        },
        "id": "07U333z7F5u1",
        "outputId": "85df815e-2daa-426c-96ac-0c50d236dce6"
      },
      "outputs": [
        {
          "name": "stdout",
          "output_type": "stream",
          "text": [
            "i am from hyderabad\n",
            "\n",
            "\n",
            "\n",
            "\n",
            "\n",
            "\n"
          ]
        }
      ],
      "source": [
        "# To avoid printing newlines use end=\"\"\n",
        "print(\"i am from \",end=\"\")\n",
        "print(\"hyderabad\")\n",
        " \n",
        "# for printing multiple strings we can use *\n",
        "print('\\n' * 5)"
      ]
    },
    {
      "cell_type": "code",
      "execution_count": null,
      "metadata": {
        "colab": {
          "base_uri": "https://localhost:8080/"
        },
        "id": "9SUQasqmiUv8",
        "outputId": "5bb07753-991e-4964-f68a-2c980be50f6c"
      },
      "outputs": [
        {
          "name": "stdout",
          "output_type": "stream",
          "text": [
            "name is amulya\n",
            "['sweety', 'amulya', 'subha', 'mbr', 'bunny']\n",
            "['amulya', 'subha']\n",
            "[['driving', 'eating', 'drinking'], ['sweety', 'amulya', 'subha', 'mbr', 'bunny']]\n",
            "amulya\n",
            "[['driving', 'eating', 'drinking'], ['sweety', 'amulya', 'subha', 'mbr', 'bunny', 'onions']]\n"
          ]
        }
      ],
      "source": [
        "# LISTS -------------\n",
        "# A list allows you to create a list of values and manipulate them\n",
        "# Each value in the list has an index starting at 0 and last one being number n-1(where n is number of values in list)\n",
        "\n",
        "name_list = ['tanuja', 'amulya', 'subha', 'mbr','bunny']\n",
        "print('name is', name_list[1])\n",
        "\n",
        "#You can update or change the value stored in a list\n",
        "name_list[0] = \"sweety\"\n",
        "print(name_list)\n",
        "\n",
        "# You can get a subset of the list with [min:max-1]\n",
        "print(name_list[1:3])\n",
        " \n",
        "other_events = ['driving', 'eating', 'drinking']\n",
        "to_do_list = [other_events, name_list]\n",
        " \n",
        "print(to_do_list)\n",
        " \n",
        "# Get the second item in the second list (Boxes inside of boxes)\n",
        "print(to_do_list[1][1])\n",
        "\n",
        "#we can add values using append function\n",
        "name_list.append('onions')\n",
        "print(to_do_list)\n",
        "\n",
        " "
      ]
    },
    {
      "cell_type": "code",
      "execution_count": null,
      "metadata": {
        "colab": {
          "base_uri": "https://localhost:8080/"
        },
        "id": "c1N_g98kHiCc",
        "outputId": "6e4c2dd9-f164-4ecc-a15f-eac431b76d13"
      },
      "outputs": [
        {
          "name": "stdout",
          "output_type": "stream",
          "text": [
            "[['driving', 'eating', 'drinking'], ['sweety', 'subha', 'pickle', 'mbr', 'amulya']]\n"
          ]
        }
      ],
      "source": [
        "# inserting an item at a particular index\n",
        "name_list.insert(1, \"pickle\")\n",
        " \n",
        "# Remove item from list\n",
        "name_list.remove(\"onions\")\n",
        " \n",
        "# Sorts items in list\n",
        "name_list.sort()\n",
        " \n",
        "# Reverse sort items in list\n",
        "name_list.reverse()\n",
        " \n",
        "# using del function we can delete an item at particular index\n",
        "del name_list[4]\n",
        "print(to_do_list)"
      ]
    },
    {
      "cell_type": "code",
      "execution_count": null,
      "metadata": {
        "colab": {
          "base_uri": "https://localhost:8080/"
        },
        "id": "HtphIBLjKzkL",
        "outputId": "6d43098d-84c1-46ef-fa32-7f0cd27b4856"
      },
      "outputs": [
        {
          "name": "stdout",
          "output_type": "stream",
          "text": [
            "['driving', 'eating', 'drinking', 'sweety', 'subha', 'pickle', 'mbr', 'amulya']\n",
            "8\n",
            "sweety\n",
            "amulya\n"
          ]
        }
      ],
      "source": [
        "# We can use + to combine lists \n",
        "to_do_list = other_events + name_list\n",
        "print(to_do_list)\n",
        " \n",
        "# To get length of list use len function\n",
        "print(len(to_do_list))\n",
        " \n",
        "# To get the max item in list use max function\n",
        "print(max(to_do_list))\n",
        " \n",
        "# To get the min item in list use min function\n",
        "print(min(to_do_list))\n",
        " "
      ]
    },
    {
      "cell_type": "code",
      "execution_count": null,
      "metadata": {
        "colab": {
          "base_uri": "https://localhost:8080/"
        },
        "id": "qrQTcCQJrGTh",
        "outputId": "0ead9693-541d-42ae-8b6a-f9eddd314b53"
      },
      "outputs": [
        {
          "name": "stdout",
          "output_type": "stream",
          "text": [
            "[3, 1, 4, 1, 5, 9]\n",
            "('sweety', 'subha', 'pickle', 'mbr', 'amulya')\n",
            "6\n",
            "1\n",
            "9\n"
          ]
        }
      ],
      "source": [
        "# TUPLES -------------\n",
        "# Values in a tuple can't change like lists\n",
        " \n",
        "pi_tuple = (3, 1, 4, 1, 5, 9)\n",
        " \n",
        "# We can convert tuple into a list using list function\n",
        "new_tuple = list(pi_tuple)\n",
        "print(new_tuple)\n",
        " \n",
        "# Convert a list into a tuple\n",
        "new_list = tuple(name_list)\n",
        "print(new_list)\n",
        " \n",
        "# tuples also have len(tuple), min(tuple) and max(tuple)\n",
        "print(len(pi_tuple))\n",
        "print(min(pi_tuple))\n",
        "print(max(pi_tuple))\n"
      ]
    },
    {
      "cell_type": "code",
      "execution_count": null,
      "metadata": {
        "colab": {
          "base_uri": "https://localhost:8080/"
        },
        "id": "dnrPzny4tHIo",
        "outputId": "637de30b-5f64-44c7-c680-e05a65f33257"
      },
      "outputs": [
        {
          "name": "stdout",
          "output_type": "stream",
          "text": [
            "orange\n",
            "{'summer': 'mango', 'winter': 'custard apple', 'spring': 'orange', 'autumn': 'grape'}\n",
            "4\n",
            "grape\n",
            "dict_keys(['summer', 'winter', 'spring', 'autumn'])\n",
            "dict_values(['mango', 'Chickoo', 'orange', 'grape'])\n"
          ]
        }
      ],
      "source": [
        "# DICTIONARY or MAP -------------\n",
        "# Made up of values with a unique key for each value\n",
        "# Similar to lists, but you can't join dicts with a +\n",
        " \n",
        "seasonal_fruits = {'summer' : 'mango',\n",
        "                  'winter' : 'custard apple',\n",
        "                  'rainy' : 'water melon',\n",
        "                  'spring' : 'orange',\n",
        "                  'autumn' : 'grape'}\n",
        " \n",
        "print(seasonal_fruits['spring'])\n",
        " \n",
        "# Delete an entry\n",
        "del seasonal_fruits['rainy']\n",
        "print(seasonal_fruits)\n",
        " \n",
        "# Replace a value\n",
        "seasonal_fruits['winter'] = 'Chickoo'\n",
        " \n",
        "# Print the number of items in the dictionary\n",
        "print(len(seasonal_fruits))\n",
        " \n",
        "# Get the value for the passed key\n",
        "print(seasonal_fruits.get(\"autumn\"))\n",
        " \n",
        "# Get a list of dictionary keys\n",
        "print(seasonal_fruits.keys())\n",
        " \n",
        "# Get a list of dictionary values\n",
        "print(seasonal_fruits.values())\n",
        " "
      ]
    },
    {
      "cell_type": "code",
      "execution_count": null,
      "metadata": {
        "colab": {
          "base_uri": "https://localhost:8080/"
        },
        "id": "WQjvd3yrukRP",
        "outputId": "ce307dc9-2cae-40f2-eb9a-016354416204"
      },
      "outputs": [
        {
          "name": "stdout",
          "output_type": "stream",
          "text": [
            "your age is greater than 16\n",
            "your age is greater than 16\n",
            "your age is greater than or equal to 16 but less than 21\n",
            "your age is greater than 16\n"
          ]
        }
      ],
      "source": [
        "# CONDITIONALS -------------\n",
        "# The if, else and elif statements are used to perform different actions based off of conditions\n",
        "# Comparison Operators : ==, !=, >, <, >=, <=\n",
        " \n",
        "# The if statement will execute code if a condition is satisfied\n",
        "# indentation or White space is used to group blocks of code in Python\n",
        "# Use the same number of proceeding spaces for blocks of code\n",
        " \n",
        "age = 20\n",
        "if age > 16 :\n",
        "    print('your age is greater than 16')\n",
        " \n",
        "# Use an if statement if you want to execute different code regardless of whether the condition ws met or not\n",
        "# by using else tcode will be executed for all the values for which the if condition is not met\n",
        " \n",
        "if age > 16 :\n",
        "    print('your age is greater than 16')\n",
        "else :\n",
        "    print('your age is less than 16')\n",
        " \n",
        "# when we want to check using multiple condition we use elif\n",
        "# if the if condition is satisfied for the input data then the execution processs will end there and the next steps willnot be followed\n",
        " \n",
        "if age >= 21 :\n",
        "    print('your age is greater than or equal to 21')\n",
        "elif age >= 16:\n",
        "    print('your age is greater than or equal to 16 but less than 21')\n",
        "else :\n",
        "    print('You are not old enough')\n",
        " \n",
        "# We can combine the two conditions using the logical operators like or,and & not\n",
        " \n",
        "if ((age >= 1) and (age <= 20)):\n",
        "    print(\"your age is greater than 16\")\n",
        "elif (age == 21) or (age >= 65):\n",
        "    print(\"your age is greater equal to 21 or greater than equal to 65\")\n",
        "elif not(age == 30):\n",
        "    print(\"your age is 30\")\n",
        "else:\n",
        "    print(\"ur age does not satisfy any of the above conditions\")"
      ]
    },
    {
      "cell_type": "code",
      "execution_count": null,
      "metadata": {
        "colab": {
          "base_uri": "https://localhost:8080/"
        },
        "id": "4gpetp69v4CB",
        "outputId": "52e47250-7ad2-4bb1-de21-72d8b43b7489"
      },
      "outputs": [
        {
          "name": "stdout",
          "output_type": "stream",
          "text": [
            "0  1  2  3  4  5  6  7  8  9  10  11  12  13  14  15  16  17  18  19  \n",
            "\n",
            "Juice\n",
            "Tomatoes\n",
            "Potatoes\n",
            "Bananas\n"
          ]
        }
      ],
      "source": [
        "# FOR LOOPS -------------\n",
        "# uSING for loops we can perform the actions any number of times we want by specifying a range\n",
        "# Range performs the action 10 times 0 - 9\n",
        "for x in range(0, 20):\n",
        "    print(x , ' ', end=\"\")\n",
        " \n",
        " # printing a new line\n",
        "print('\\n')\n",
        " \n",
        "# you can also access the values in a list using the loop in a cycle\n",
        "grocery_list = ['Juice', 'Tomatoes', 'Potatoes', 'Bananas']\n",
        " \n",
        "for y in grocery_list:\n",
        "    print(y)"
      ]
    },
    {
      "cell_type": "code",
      "execution_count": null,
      "metadata": {
        "colab": {
          "base_uri": "https://localhost:8080/"
        },
        "id": "thcPCWfyv5LD",
        "outputId": "424cc8ed-6647-458a-b8cd-c85de2cca7f7"
      },
      "outputs": [
        {
          "name": "stdout",
          "output_type": "stream",
          "text": [
            "2\n",
            "4\n",
            "6\n",
            "8\n",
            "10\n"
          ]
        }
      ],
      "source": [
        "# You can also define a list of numbers to cycle through\n",
        "for x in [2,4,6,8,10]:\n",
        "    print(x)"
      ]
    },
    {
      "cell_type": "code",
      "execution_count": null,
      "metadata": {
        "colab": {
          "base_uri": "https://localhost:8080/"
        },
        "id": "8mcfceM9v9cF",
        "outputId": "11024f26-8a7f-453d-cafa-b9b1a17b3b32"
      },
      "outputs": [
        {
          "name": "stdout",
          "output_type": "stream",
          "text": [
            "1\n",
            "2\n",
            "3\n",
            "10\n",
            "20\n",
            "30\n",
            "100\n",
            "200\n",
            "300\n"
          ]
        }
      ],
      "source": [
        "# using nested loops help us to cycle through lists\n",
        "num_list =[[1,2,3],[10,20,30],[100,200,300]];\n",
        " \n",
        "for x in range(0,3):\n",
        "    for y in range(0,3):\n",
        "        print(num_list[x][y])"
      ]
    },
    {
      "cell_type": "code",
      "execution_count": null,
      "metadata": {
        "colab": {
          "base_uri": "https://localhost:8080/"
        },
        "id": "IyfU-dh7wATd",
        "outputId": "4b24c426-d2c1-4874-b4ce-fef2060eceb0"
      },
      "outputs": [
        {
          "name": "stdout",
          "output_type": "stream",
          "text": [
            "1\n",
            "15\n",
            "60\n",
            "79\n",
            "18\n"
          ]
        }
      ],
      "source": [
        "# WHILE LOOPS -------------\n",
        "# While loops are used when you dont know what range should we specoify for the loop to run\n",
        "\n",
        "#randrange functions picks some random values from the range that we specify\n",
        "#everytime we run the function it displays a random number within the range inclusive of first(0) number excluding the last(100)\n",
        "\n",
        "random_num = random.randrange(0,100)\n",
        " \n",
        "# when the random number is 35 the loop will end\n",
        "while (random_num != 35):\n",
        "    print(random_num)\n",
        "    random_num = random.randrange(0,100)\n",
        "\n"
      ]
    },
    {
      "cell_type": "code",
      "execution_count": null,
      "metadata": {
        "colab": {
          "base_uri": "https://localhost:8080/"
        },
        "id": "IZWqJ0ptwAXD",
        "outputId": "27c7dfc5-2809-4bff-9a50-759889e398ca"
      },
      "outputs": [
        {
          "name": "stdout",
          "output_type": "stream",
          "text": [
            "0\n",
            "5\n",
            "10\n",
            "15\n",
            "20\n",
            "25\n",
            "30\n",
            "35\n"
          ]
        }
      ],
      "source": [
        "# For a while loop we initiate the iterator by assigning a value before the loop\n",
        "i = 0;\n",
        "while (i <= 50):\n",
        "    if(i%5 == 0):\n",
        "        print(i)\n",
        "    elif(i == 36 ):\n",
        "        # Using break we forces the loop to end all together without proceding to the next step.\n",
        "        break\n",
        "    else:\n",
        "        # Shorthand for i = i + 1\n",
        "        i += 1\n",
        "        # Skips to the next iteration of the loop\n",
        "        continue\n",
        " \n",
        "    i += 1"
      ]
    },
    {
      "cell_type": "code",
      "execution_count": null,
      "metadata": {
        "colab": {
          "base_uri": "https://localhost:8080/"
        },
        "id": "k_6UnU1bwJD5",
        "outputId": "067a404e-843d-4087-8ebb-b96243b906b6"
      },
      "outputs": [
        {
          "name": "stdout",
          "output_type": "stream",
          "text": [
            "20\n"
          ]
        }
      ],
      "source": [
        "# FUNCTIONS -------------\n",
        "\n",
        "# Functions allow you to reuse and write readable code\n",
        "# Type def (define), function name and parameters it receives\n",
        "# return is used to return something to the caller of the function\n",
        "def mulNumbers(fNum, prodNum):\n",
        "    prodNum = fNum * prodNum\n",
        "    return prodNum\n",
        " \n",
        "print(mulNumbers(5, 4))"
      ]
    },
    {
      "cell_type": "code",
      "execution_count": null,
      "metadata": {
        "colab": {
          "base_uri": "https://localhost:8080/"
        },
        "id": "8b54Rak0wJHg",
        "outputId": "92953bf0-18b0-4e4a-e69c-a5fd7ae6308e"
      },
      "outputs": [
        {
          "name": "stdout",
          "output_type": "stream",
          "text": [
            "-3\n"
          ]
        }
      ],
      "source": [
        "\n",
        "# If you define a variable outside of the function it works every place and that variable is called GLOBAL Variable\n",
        "newNum = 0;\n",
        "def subNumbers(fNum, sNum):\n",
        "    newNum = fNum - sNum\n",
        "    return newNum\n",
        " \n",
        "print(subNumbers(1, 4))"
      ]
    },
    {
      "cell_type": "code",
      "execution_count": null,
      "metadata": {
        "colab": {
          "base_uri": "https://localhost:8080/"
        },
        "id": "Reoh6FytwUnh",
        "outputId": "cd30eda6-0e80-4137-e307-b11ca28cdbce"
      },
      "outputs": [
        {
          "name": "stdout",
          "output_type": "stream",
          "text": [
            "What is your name?\n",
            "Hello \n",
            "Enter username:hi\n",
            "Username is: hi\n"
          ]
        }
      ],
      "source": [
        "# USER INPUT -------------\n",
        "print('What is your name?')\n",
        " \n",
        "# Stores everything typed up until ENTER\n",
        "#stdin. readline() stands for standard input which is a stream from which the program reads its input data.\n",
        "name = sys.stdin.readline()\n",
        "print('Hello', name)\n",
        "\n",
        "#it asks for an input and when we input a value the process takes place\n",
        "username = input(\"Enter username:\")\n",
        "print(\"Username is: \" + username)\n",
        "\n",
        " \n"
      ]
    },
    {
      "cell_type": "code",
      "execution_count": null,
      "metadata": {
        "colab": {
          "base_uri": "https://localhost:8080/"
        },
        "id": "D6boMZNRwUqq",
        "outputId": "f85fa143-ee89-4152-c45f-fec2b00dee75"
      },
      "outputs": [
        {
          "name": "stdout",
          "output_type": "stream",
          "text": [
            "i am ta\n",
            "tanuja red\n",
            "e ds\n",
            "i am tanuja reddy from sj\n",
            "i am tanu cohort\n"
          ]
        }
      ],
      "source": [
        "# STRINGS -------------\n",
        "# A string is a series of characters surrounded by ' or \"\n",
        "# even the space is counted asa character\n",
        "demo_string = \"i am tanuja reddy from sjsu se ds\"\n",
        " \n",
        "# Retrieve the first 4 characters\n",
        "print(demo_string[0:7])\n",
        "\n",
        "print(demo_string[5:15])\n",
        " \n",
        "# Get the last 5 characters\n",
        "print(demo_string[-4:])\n",
        " \n",
        "# Everything up to the last 5 characters\n",
        "print(demo_string[:-8])\n",
        " \n",
        "# Concatenate part of a string to another\n",
        "print(demo_string[:9] + \" cohort\")"
      ]
    },
    {
      "cell_type": "code",
      "execution_count": null,
      "metadata": {
        "colab": {
          "base_uri": "https://localhost:8080/"
        },
        "id": "sulZZhj6wUuT",
        "outputId": "a0a4446c-fdbc-4dbf-b892-583ad1b4f5d8"
      },
      "outputs": [
        {
          "name": "stdout",
          "output_type": "stream",
          "text": [
            "X is my favorite letter and my number 1 number is 0.14000\n",
            "I am tanuja reddy from sjsu se ds\n",
            "-1\n",
            "True\n",
            "False\n",
            "True\n",
            "False\n",
            "33\n"
          ]
        }
      ],
      "source": [
        "# String formatting\n",
        "# .5f represents the decimal vale upto 5 places\n",
        "print(\"%c is my %s letter and my number %d number is %.5f\" % ('X', 'favorite', 1, .14))\n",
        " \n",
        "# Capitalizes the first letter\n",
        "print(demo_string.capitalize())\n",
        " \n",
        "# Returns the index of the start of the string\n",
        "# case sensitive\n",
        "print(demo_string.find(\"Floor\"))\n",
        "\n",
        "newstring=\"tanujareddy\"\n",
        " \n",
        "# Returns true if all characters are letters ' isn't a letter\n",
        "print(newstring.isalpha())\n",
        "print(demo_string.isalnum())\n",
        "\n",
        "mystring=\"56324\"\n",
        " \n",
        "# Returns true if all characters are numbers\n",
        "print(mystring.isalnum())\n",
        "print(demo_string.isalnum())\n",
        " \n",
        "# Returns the string length\n",
        "print(len(demo_string))"
      ]
    },
    {
      "cell_type": "code",
      "execution_count": 40,
      "metadata": {
        "colab": {
          "base_uri": "https://localhost:8080/"
        },
        "id": "Ml__Aqh3wmMG",
        "outputId": "a8772d57-62f4-4fdf-b4a1-886f47f33126"
      },
      "outputs": [
        {
          "name": "stdout",
          "output_type": "stream",
          "text": [
            "i am tanuja reddy from sjsu se ds\n",
            "hello hello hi this is tauja reddy maligi reddy\n",
            "i am tanuja reddy from sjsu se ds\n",
            "['i', 'am', 'tanuja', 'reddy', 'from', 'sjsu', 'se', 'ds']\n"
          ]
        }
      ],
      "source": [
        "# Replace the first word with the second (Add a number to replace more)\n",
        "print(demo_string.replace(\"Floor\", \"Ground\"))\n",
        "\n",
        "nstring=\"hi hi hi this is tauja reddy maligi reddy\"\n",
        "print(nstring.replace(\"hi\", \"hello\",2))\n",
        " \n",
        "# Remove white space from front and end\n",
        "print(demo_string.strip())\n",
        " \n",
        "# Split a string into a list based on the delimiter you provide\n",
        "quote_list = demo_string.split(\" \")\n",
        "print(quote_list)\n",
        " "
      ]
    },
    {
      "cell_type": "code",
      "execution_count": 59,
      "metadata": {
        "colab": {
          "base_uri": "https://localhost:8080/"
        },
        "id": "RRB9AIvdwp-Q",
        "outputId": "dd6b8ae8-b89c-4eea-8e51-416d6b4ccbcb"
      },
      "outputs": [
        {
          "name": "stdout",
          "output_type": "stream",
          "text": [
            "wb\n",
            "test.txt\n"
          ]
        }
      ],
      "source": [
        "# Overwrite or create a file for writing\n",
        "#the \"rb\" mode opens the file in binary format for reading, while the \"wb\" mode opens the file in binary format for writing\n",
        "test_file = open(\"test.txt\", \"wb\")\n",
        "\n",
        " \n",
        "# Get the file mode used\n",
        "print(test_file.mode)\n",
        " \n",
        "# Get the files name\n",
        "print(test_file.name)\n",
        " "
      ]
    },
    {
      "cell_type": "code",
      "execution_count": 60,
      "metadata": {
        "colab": {
          "base_uri": "https://localhost:8080/"
        },
        "id": "CP16YvvjwqBv",
        "outputId": "52831b3a-2a5f-4378-b567-5409bab7060c"
      },
      "outputs": [
        {
          "name": "stdout",
          "output_type": "stream",
          "text": [
            "Write me to the file\n",
            "\n"
          ]
        }
      ],
      "source": [
        "# Write text to a file with a newline\n",
        "test_file.write(bytes(\"Write me to the file\\n\", 'UTF-8'))\n",
        " \n",
        "# Close the file\n",
        "test_file.close()\n",
        " \n",
        "# Opens a file for reading and writing\n",
        "test_file = open(\"test.txt\", \"r+\")\n",
        " \n",
        "# Read text from the file\n",
        "text_in_file = test_file.read()\n",
        " \n",
        "print(text_in_file)"
      ]
    },
    {
      "cell_type": "code",
      "execution_count": null,
      "metadata": {
        "id": "7KZZemLOw6Kd"
      },
      "outputs": [],
      "source": [
        "# Delete the file\n",
        "os.remove(\"test.txt\")"
      ]
    },
    {
      "cell_type": "code",
      "execution_count": 99,
      "metadata": {
        "id": "IbdAQ2rTw8-I"
      },
      "outputs": [],
      "source": [
        "# CLASSES AND OBJECTS -------------\n",
        "# The concept of OOP allows us to model real world things using code\n",
        "# Every object has attributes (color, height, weight) which are object variables\n",
        "# Every object has abilities (walk, talk, eat) which are object functions\n",
        " \n",
        "class Animal:\n",
        "    # None signifies the lack of a value\n",
        "    # You can make a variable private by starting it with __\n",
        "    __name = None\n",
        "    __height = None\n",
        "    __weight = None\n",
        "    __sound = None\n",
        " \n",
        "    # The constructor is called to set up or initialize an object\n",
        "    # self allows an object to refer to itself inside of the class\n",
        "    def __init__(self, name, height, weight, sound):\n",
        "        self.__name = name\n",
        "        self.__height = height\n",
        "        self.__weight = weight\n",
        "        self.__sound = sound\n",
        " \n",
        "    def set_name(self, name):\n",
        "        self.__name = name\n",
        " \n",
        "    def set_height(self, height):\n",
        "        self.__height = height\n",
        " \n",
        "    def set_weight(self, weight):\n",
        "        self.__weight = weight\n",
        " \n",
        "    def set_sound(self, sound):\n",
        "        self.__sound = sound\n",
        " \n",
        "    def get_name(self):\n",
        "        return self.__name\n",
        " \n",
        "    def get_height(self):\n",
        "        return str(self.__height)\n",
        " \n",
        "    def get_weight(self):\n",
        "        return str(self.__weight)\n",
        " \n",
        "    def get_sound(self):\n",
        "        return self.__sound\n",
        " \n",
        "    def get_type(self):\n",
        "        print(\"Animal\")\n",
        " \n",
        "    def toString(self):\n",
        "        return \"{} is {} cm tall and {} kilograms and says {}\".format(self.__name, self.__height, self.__weight, self.__sound)\n",
        " "
      ]
    },
    {
      "cell_type": "code",
      "execution_count": 100,
      "metadata": {
        "colab": {
          "base_uri": "https://localhost:8080/"
        },
        "id": "Pt4JT9XAw9Gw",
        "outputId": "563efb2e-6625-4f46-c7d7-5ff3e6157067"
      },
      "outputs": [
        {
          "name": "stdout",
          "output_type": "stream",
          "text": [
            "billi is 20 cm tall and 8 kilograms and says gurrrmeow\n"
          ]
        }
      ],
      "source": [
        "# How to create a Animal object\n",
        "cat = Animal('billi', 20, 8, 'gurrrmeow')\n",
        " \n",
        "print(cat.toString())\n",
        " "
      ]
    },
    {
      "cell_type": "code",
      "execution_count": 101,
      "metadata": {
        "id": "MxYZqESTxNe2"
      },
      "outputs": [],
      "source": [
        "# You can't access this value directly because it is private\n",
        "#print(cat.__name)\n",
        " \n",
        "# INHERITANCE -------------\n",
        "# You can inherit all of the variables and methods from another class\n",
        "# Inheritance allows us to define a class that inherits all the methods and properties from another class\n",
        " \n",
        "class Dog(Animal):\n",
        "    __owner = None\n",
        " \n",
        "    def __init__(self, name, height, weight, sound, owner):\n",
        "        self.__owner = owner\n",
        "        self.__animal_type = None\n",
        " \n",
        "        # How to call the super class constructor\n",
        "        super(Dog, self).__init__(name, height, weight, sound)\n",
        "        \n",
        " \n",
        "    def set_owner(self, owner):\n",
        "        self.__owner = owner\n",
        " \n",
        "    def get_owner(self):\n",
        "        return self.__owner\n",
        " \n",
        "    def get_type(self):\n",
        "        print (\"Dog\")\n",
        " "
      ]
    },
    {
      "cell_type": "code",
      "execution_count": 102,
      "metadata": {
        "id": "cGy5uUnLxS0h"
      },
      "outputs": [],
      "source": [
        " # We can overwrite functions in the super class\n",
        "def toString(self):\n",
        "        return \"{} is {} cm tall and {} kilograms and says {}. His owner is {}\".format(self.get_name(), self.get_height(), self.get_weight(), self.get_sound(), self.__owner)\n",
        " "
      ]
    },
    {
      "cell_type": "code",
      "execution_count": 103,
      "metadata": {
        "colab": {
          "base_uri": "https://localhost:8080/"
        },
        "id": "a8dDaTgqxYng",
        "outputId": "ae84cda9-1401-4559-b220-edd023cec0eb"
      },
      "outputs": [
        {
          "name": "stdout",
          "output_type": "stream",
          "text": [
            "spot is 34 cm tall and 12 kilograms and says boww\n"
          ]
        }
      ],
      "source": [
        "# You don't have to require attributes to be sent\n",
        "# This allows for method overloading\n",
        "def multiple_sounds(self, how_many=None):\n",
        "        if how_many is None:\n",
        "            print(self.get_sound)\n",
        "        else:\n",
        "            print(self.get_sound() * how_many)\n",
        " \n",
        "spot = Dog(\"spot\", 34, 12, \"boww\", \"john\")\n",
        " \n",
        "print(spot.toString())\n",
        " "
      ]
    },
    {
      "cell_type": "code",
      "execution_count": 104,
      "metadata": {
        "colab": {
          "base_uri": "https://localhost:8080/",
          "height": 253
        },
        "id": "i7dPZ_dZxeHi",
        "outputId": "64756f96-ca50-44af-a03e-d1f515446e3c"
      },
      "outputs": [
        {
          "name": "stdout",
          "output_type": "stream",
          "text": [
            "Animal\n",
            "Dog\n"
          ]
        },
        {
          "ename": "AttributeError",
          "evalue": "ignored",
          "output_type": "error",
          "traceback": [
            "\u001b[0;31m---------------------------------------------------------------------------\u001b[0m",
            "\u001b[0;31mAttributeError\u001b[0m                            Traceback (most recent call last)",
            "\u001b[0;32m<ipython-input-104-ceff4500b877>\u001b[0m in \u001b[0;36m<module>\u001b[0;34m\u001b[0m\n\u001b[1;32m     11\u001b[0m \u001b[0mtest_animals\u001b[0m\u001b[0;34m.\u001b[0m\u001b[0mget_type\u001b[0m\u001b[0;34m(\u001b[0m\u001b[0mspot\u001b[0m\u001b[0;34m)\u001b[0m\u001b[0;34m\u001b[0m\u001b[0;34m\u001b[0m\u001b[0m\n\u001b[1;32m     12\u001b[0m \u001b[0;34m\u001b[0m\u001b[0m\n\u001b[0;32m---> 13\u001b[0;31m \u001b[0mspot\u001b[0m\u001b[0;34m.\u001b[0m\u001b[0mmultiple_sounds\u001b[0m\u001b[0;34m(\u001b[0m\u001b[0;36m2\u001b[0m\u001b[0;34m)\u001b[0m\u001b[0;34m\u001b[0m\u001b[0;34m\u001b[0m\u001b[0m\n\u001b[0m\u001b[1;32m     14\u001b[0m \u001b[0mspot\u001b[0m\u001b[0;34m.\u001b[0m\u001b[0mmultiple_sounds\u001b[0m\u001b[0;34m(\u001b[0m\u001b[0;34m)\u001b[0m\u001b[0;34m\u001b[0m\u001b[0;34m\u001b[0m\u001b[0m\n",
            "\u001b[0;31mAttributeError\u001b[0m: 'Dog' object has no attribute 'multiple_sounds'"
          ]
        }
      ],
      "source": [
        "# Polymorphism allows use to refer to objects as their super class\n",
        "# and the correct functions are called automatically\n",
        " \n",
        "class AnimalTesting:\n",
        "    def get_type(self, animal):\n",
        "        animal.get_type()\n",
        " \n",
        "test_animals = AnimalTesting()\n",
        " \n",
        "test_animals.get_type(cat)\n",
        "test_animals.get_type(spot)\n",
        "\n",
        "spot.multiple_sounds(2)\n",
        "spot.multiple_sounds()"
      ]
    }
  ],
  "metadata": {
    "colab": {
      "authorship_tag": "ABX9TyOCJ4fRenutpWt7oQ7ePAQE",
      "collapsed_sections": [],
      "include_colab_link": true,
      "provenance": []
    },
    "kernelspec": {
      "display_name": "Python 3.10.6 64-bit",
      "language": "python",
      "name": "python3"
    },
    "language_info": {
      "name": "python",
      "version": "3.10.6"
    },
    "vscode": {
      "interpreter": {
        "hash": "76826f4a804c21a57e5e993b5e90891f3b0ceb67c8450909509d2fbb24cd8922"
      }
    }
  },
  "nbformat": 4,
  "nbformat_minor": 0
}
