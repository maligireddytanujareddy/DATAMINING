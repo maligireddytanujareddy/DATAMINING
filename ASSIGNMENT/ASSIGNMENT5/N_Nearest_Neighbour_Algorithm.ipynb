{
  "nbformat": 4,
  "nbformat_minor": 0,
  "metadata": {
    "colab": {
      "provenance": [],
      "toc_visible": true
    },
    "kernelspec": {
      "name": "python3",
      "display_name": "Python 3"
    },
    "language_info": {
      "name": "python"
    }
  },
  "cells": [
    {
      "cell_type": "markdown",
      "source": [
        "##LSH\n"
      ],
      "metadata": {
        "id": "xqKD6tVqi40K"
      }
    },
    {
      "cell_type": "code",
      "execution_count": null,
      "metadata": {
        "colab": {
          "base_uri": "https://localhost:8080/"
        },
        "id": "EOXqpBxObL-o",
        "outputId": "96c6d5bd-9bf3-4080-e224-075de57587cf"
      },
      "outputs": [
        {
          "output_type": "stream",
          "name": "stdout",
          "text": [
            "Looking in indexes: https://pypi.org/simple, https://us-python.pkg.dev/colab-wheels/public/simple/\n",
            "Requirement already satisfied: lshashing in /usr/local/lib/python3.7/dist-packages (1.1.3)\n",
            "Requirement already satisfied: numpy in /usr/local/lib/python3.7/dist-packages (from lshashing) (1.21.6)\n",
            "Requirement already satisfied: cython in /usr/local/lib/python3.7/dist-packages (from lshashing) (0.29.32)\n",
            "Requirement already satisfied: joblib in /usr/local/lib/python3.7/dist-packages (from lshashing) (1.2.0)\n"
          ]
        }
      ],
      "source": [
        "!pip install lshashing"
      ]
    },
    {
      "cell_type": "code",
      "source": [
        "from lshashing import LSHRandom\n",
        "import numpy as np\n",
        "\n",
        "# Loading the data\n",
        "lsh_data = np.random.randint(size = (10, 10), low = 0, high = 50)\n",
        "lsh_point = np.random.randint(size = (1,10), low = 0, high = 50)\n",
        "\n",
        "# Applying the LSH appropriate nearest neighbor search\n",
        "lshashing = LSHRandom(lsh_data, hash_len = 3, num_tables = 2)\n",
        "\n",
        "# Displaying data\n",
        "print(lshashing.tables[1].hash_table)\n",
        "print(lshashing.knn_search(lsh_data, lsh_point[0], k = 3, buckets = 2, radius = 2))"
      ],
      "metadata": {
        "colab": {
          "base_uri": "https://localhost:8080/"
        },
        "id": "gR7WZHH0bVon",
        "outputId": "4e75e75c-a823-4116-e89c-6109fa885c54"
      },
      "execution_count": null,
      "outputs": [
        {
          "output_type": "stream",
          "name": "stdout",
          "text": [
            "{25: [0, 1, 2, 9], 49: [3, 4, 6, 7, 8], 16: [5]}\n",
            "[[50.43808085  5.        ]\n",
            " [49.45705208  8.        ]\n",
            " [49.45705208  9.        ]]\n"
          ]
        }
      ]
    },
    {
      "cell_type": "code",
      "source": [
        "# Loading the data\n",
        "lsh_data = np.random.randint(size = (10, 10), low = 0, high = 50)\n",
        "lsh_point = np.random.randint(size = (1, 10), low = 0, high = 50)\n",
        "\n",
        "# Applying the LSH appropriate nearest neighbor search\n",
        "lshg_random_parallel = LSHRandom(lsh_data, 4, parallel = True)\n",
        "lshg_random_parallel.knn_search(lsh_data, lsh_point[0], 5, 2, parallel = True)"
      ],
      "metadata": {
        "colab": {
          "base_uri": "https://localhost:8080/"
        },
        "id": "Up5vRzsKbVmM",
        "outputId": "563931e0-f840-4a79-b5bb-5ec6c8ac125a"
      },
      "execution_count": null,
      "outputs": [
        {
          "output_type": "execute_result",
          "data": {
            "text/plain": [
              "[Neighbor(index=1, distance=35.369478367654786, value=[[26  9 16]...]),\n",
              " Neighbor(index=5, distance=45.552167895721496, value=[[31 33 16]...]),\n",
              " Neighbor(index=2, distance=46.78675026115834, value=[[19 39 10]...]),\n",
              " Neighbor(index=0, distance=51.39066063011839, value=[[26 45 25]...]),\n",
              " Neighbor(index=6, distance=53.54437412091022, value=[[8 2 0]...])]"
            ]
          },
          "metadata": {},
          "execution_count": 33
        }
      ]
    },
    {
      "cell_type": "markdown",
      "source": [
        "##Exhaustive Search"
      ],
      "metadata": {
        "id": "YUfrAqEpjL-3"
      }
    },
    {
      "cell_type": "code",
      "source": [
        "# Compute the squared Euclidean distance\n",
        "def SEDist(X, Y):\n",
        "    return sum((i-j)**2 for i, j in zip(X, Y))\n",
        "\n",
        "SEDist( (9, 7), (3, 5) )"
      ],
      "metadata": {
        "colab": {
          "base_uri": "https://localhost:8080/"
        },
        "id": "efALFEI3bVjl",
        "outputId": "f2392e2b-2588-499f-b0f5-ad816d25ca79"
      },
      "execution_count": null,
      "outputs": [
        {
          "output_type": "execute_result",
          "data": {
            "text/plain": [
              "40"
            ]
          },
          "metadata": {},
          "execution_count": 34
        }
      ]
    },
    {
      "cell_type": "code",
      "source": [
        "# Calculating the nearest neighbor with the reference points\n",
        "def exhaustive_search(*, es_points, exhaustive_points):\n",
        "    return {\n",
        "        query_p: min(\n",
        "            exhaustive_points,\n",
        "            key=lambda X: SEDist(X, query_p),\n",
        "        )\n",
        "        for query_p in es_points\n",
        "    }\n",
        "\n",
        "# Defining the data\n",
        "exhaustive_points = [ (2, 3), (1, 5), (3, 4), (5, 10) ]\n",
        "es_points = [\n",
        "    (11, 3), (2, 7), (8, 5), (1, 10), (17, 15), (7, 13), (7, 9)\n",
        "]\n",
        "\n",
        "exhaustive_search(\n",
        "    exhaustive_points = exhaustive_points,\n",
        "    es_points = es_points,\n",
        ")"
      ],
      "metadata": {
        "colab": {
          "base_uri": "https://localhost:8080/"
        },
        "id": "Sh4E_GPXbVgv",
        "outputId": "165286f7-391f-4c0f-de37-9100ceda0487"
      },
      "execution_count": null,
      "outputs": [
        {
          "output_type": "execute_result",
          "data": {
            "text/plain": [
              "{(11, 3): (3, 4),\n",
              " (2, 7): (1, 5),\n",
              " (8, 5): (3, 4),\n",
              " (1, 10): (5, 10),\n",
              " (17, 15): (5, 10),\n",
              " (7, 13): (5, 10),\n",
              " (7, 9): (5, 10)}"
            ]
          },
          "metadata": {},
          "execution_count": 35
        }
      ]
    },
    {
      "cell_type": "markdown",
      "source": [
        "## Product Quantization"
      ],
      "metadata": {
        "id": "QNmsQDgTjXM2"
      }
    },
    {
      "cell_type": "code",
      "source": [
        "!pip install nanopq"
      ],
      "metadata": {
        "colab": {
          "base_uri": "https://localhost:8080/"
        },
        "id": "mDf3M2ADbVd4",
        "outputId": "4d9b1ff9-964a-4c8d-e09e-84a4f68d2474"
      },
      "execution_count": null,
      "outputs": [
        {
          "output_type": "stream",
          "name": "stdout",
          "text": [
            "Looking in indexes: https://pypi.org/simple, https://us-python.pkg.dev/colab-wheels/public/simple/\n",
            "Requirement already satisfied: nanopq in /usr/local/lib/python3.7/dist-packages (0.1.11)\n",
            "Requirement already satisfied: scipy in /usr/local/lib/python3.7/dist-packages (from nanopq) (1.7.3)\n",
            "Requirement already satisfied: numpy in /usr/local/lib/python3.7/dist-packages (from nanopq) (1.21.6)\n"
          ]
        }
      ]
    },
    {
      "cell_type": "code",
      "source": [
        "# Import libraries\n",
        "import nanopq\n",
        "import numpy as np\n",
        "\n",
        "# Loading the data\n",
        "val1 = np.random.random((300, 10)).astype(np.float32)\n",
        "val2 = np.random.random((200, 10)).astype(np.float32)\n",
        "pq_query_data = np.random.random((10, )).astype(np.float32)"
      ],
      "metadata": {
        "id": "EqnHTYsObVbh"
      },
      "execution_count": null,
      "outputs": []
    },
    {
      "cell_type": "code",
      "source": [
        "pq_data = nanopq.PQ(M=2, Ks=10, verbose=True)"
      ],
      "metadata": {
        "colab": {
          "base_uri": "https://localhost:8080/"
        },
        "id": "QpJl_hgTbVZA",
        "outputId": "02327acd-86f1-419a-9f07-bda0265a4727"
      },
      "execution_count": null,
      "outputs": [
        {
          "output_type": "stream",
          "name": "stdout",
          "text": [
            "M: 2, Ks: 10, code_dtype: <class 'numpy.uint8'>\n"
          ]
        }
      ]
    },
    {
      "cell_type": "code",
      "source": [
        "pq_data = nanopq.PQ(M=2, Ks=10).fit(vecs=val2, iter=20, seed=111)"
      ],
      "metadata": {
        "colab": {
          "base_uri": "https://localhost:8080/"
        },
        "id": "VXRO-V8XbVYa",
        "outputId": "1fee2364-9997-4851-e3da-dac0fb1578ee"
      },
      "execution_count": null,
      "outputs": [
        {
          "output_type": "stream",
          "name": "stdout",
          "text": [
            "M: 2, Ks: 10, code_dtype: <class 'numpy.uint8'>\n",
            "iter: 20, seed: 111\n",
            "Training the subspace: 0 / 2\n",
            "Training the subspace: 1 / 2\n"
          ]
        }
      ]
    },
    {
      "cell_type": "code",
      "source": [
        "# Vectors encoded to PQ-codes.\n",
        "value1_code = pq_data.encode(vecs=val1)"
      ],
      "metadata": {
        "colab": {
          "base_uri": "https://localhost:8080/"
        },
        "id": "FfNDhSgebVPi",
        "outputId": "2fa8f163-9e63-41af-94c7-9d92c4601f1d"
      },
      "execution_count": null,
      "outputs": [
        {
          "output_type": "stream",
          "name": "stdout",
          "text": [
            "Encoding the subspace: 0 / 2\n",
            "Encoding the subspace: 1 / 2\n"
          ]
        }
      ]
    },
    {
      "cell_type": "code",
      "source": [
        "pq_datatable = pq_data.dtable(query=pq_query_data) \n",
        "new_pq = pq_datatable.adist(codes=value1_code) \n",
        "new_pq = pq_data.dtable(query=pq_query_data).adist(codes=value1_code) \n",
        "min_value = np.argmin(new_pq)"
      ],
      "metadata": {
        "id": "zv9mTasvbVM8"
      },
      "execution_count": null,
      "outputs": []
    },
    {
      "cell_type": "code",
      "source": [
        "# The results by PQ\n",
        "print(new_pq[:30])\n",
        "\n",
        "# The results by the exact scan\n",
        "new_pq_exact = np.linalg.norm(val1 - pq_query_data, axis=1) ** 2\n",
        "print(new_pq_exact[:30])"
      ],
      "metadata": {
        "colab": {
          "base_uri": "https://localhost:8080/"
        },
        "id": "P9l2uI9ceP1w",
        "outputId": "c3a2004f-b9ac-4fc7-ed60-b17b245ecbf2"
      },
      "execution_count": null,
      "outputs": [
        {
          "output_type": "stream",
          "name": "stdout",
          "text": [
            "[0.52229726 1.3840045  1.2289101  1.4527218  1.1012701  1.5803618\n",
            " 0.83673996 1.1996658  1.3268378  0.91965926 1.0243659  1.4906436\n",
            " 0.97956365 1.2856088  0.62769973 0.60635126 1.4284325  1.5960867\n",
            " 0.5743052  1.7023486  1.6749823  0.5294471  1.0117388  1.3268378\n",
            " 0.79214025 0.7864803  0.58240426 1.453263   1.5010902  0.58284163]\n",
            "[1.1200771  2.0342693  2.3752615  1.4778057  1.4892058  1.3779052\n",
            " 1.6327633  2.1839707  1.394433   0.9513964  1.4154241  1.5987351\n",
            " 1.2298341  2.2654498  0.57176816 0.61424017 2.2193167  1.5456489\n",
            " 0.6384673  1.7476935  2.6706524  1.2252753  1.6749492  1.6958979\n",
            " 0.94229716 0.70993567 1.2702565  1.5556422  1.3933926  0.34002504]\n"
          ]
        }
      ]
    },
    {
      "cell_type": "code",
      "source": [
        "# Vectors approximately reconstructed by fetching codewords\n",
        "value1_reconstructed = pq_data.decode(codes=value1_code)\n",
        "print(val1[:3])\n",
        "print(value1_reconstructed[:3])"
      ],
      "metadata": {
        "colab": {
          "base_uri": "https://localhost:8080/"
        },
        "id": "S4Gzf_BmePy5",
        "outputId": "86baae98-95b7-4875-dfba-1b7844ec27d9"
      },
      "execution_count": null,
      "outputs": [
        {
          "output_type": "stream",
          "name": "stdout",
          "text": [
            "[[0.4754867  0.95685625 0.08172247 0.18975958 0.6016347  0.30579254\n",
            "  0.6178802  0.31128013 0.13745235 0.32055143]\n",
            " [0.7332759  0.24362962 0.9150325  0.6556154  0.06830217 0.3880876\n",
            "  0.09113412 0.98937243 0.2645031  0.29095256]\n",
            " [0.0066501  0.8551826  0.68901825 0.10506567 0.6549309  0.10277326\n",
            "  0.08737739 0.2743617  0.9602649  0.0548634 ]]\n",
            "[[0.72307533 0.8006407  0.18633671 0.3181567  0.735876   0.25026757\n",
            "  0.7935566  0.27955455 0.4047771  0.3746541 ]\n",
            " [0.7304915  0.34204268 0.7969214  0.6447078  0.126326   0.6889444\n",
            "  0.3129007  0.54384756 0.20302553 0.47358915]\n",
            " [0.18935557 0.740808   0.32463908 0.25170764 0.5721659  0.30446324\n",
            "  0.19499442 0.36450067 0.6951364  0.23501287]]\n"
          ]
        }
      ]
    },
    {
      "cell_type": "markdown",
      "source": [
        "## Trees and Graphs"
      ],
      "metadata": {
        "id": "nY6vAuUtjhbB"
      }
    },
    {
      "cell_type": "code",
      "source": [
        "# Importing libraries \n",
        "from sklearn.neighbors import NearestNeighbors\n",
        "import numpy as np\n",
        "\n",
        "# Loading the data\n",
        "data = np.array([[-11, -5], [-8, -10], [-7, -1], [5, 3], [4, 1], [9, 8]])\n",
        "\n",
        "# Finding nearest neighbors with ball tree approach\n",
        "tg_neighbors = NearestNeighbors(n_neighbors=2, algorithm='ball_tree').fit(data)\n",
        "tg_distances, tg_indices = tg_neighbors.kneighbors(data)\n",
        "tg_indices\n",
        "tg_distances"
      ],
      "metadata": {
        "colab": {
          "base_uri": "https://localhost:8080/"
        },
        "id": "jNVDi3QzePw8",
        "outputId": "0d76baec-d3c6-4371-a112-7263532a31af"
      },
      "execution_count": null,
      "outputs": [
        {
          "output_type": "execute_result",
          "data": {
            "text/plain": [
              "array([[0.        , 5.65685425],\n",
              "       [0.        , 5.83095189],\n",
              "       [0.        , 5.65685425],\n",
              "       [0.        , 2.23606798],\n",
              "       [0.        , 2.23606798],\n",
              "       [0.        , 6.40312424]])"
            ]
          },
          "metadata": {},
          "execution_count": 45
        }
      ]
    },
    {
      "cell_type": "code",
      "source": [
        "tg_neighbors.kneighbors_graph(data).toarray()"
      ],
      "metadata": {
        "colab": {
          "base_uri": "https://localhost:8080/"
        },
        "id": "xLhNElyKePwF",
        "outputId": "21a132e7-c847-42c5-948a-89851f71372b"
      },
      "execution_count": null,
      "outputs": [
        {
          "output_type": "execute_result",
          "data": {
            "text/plain": [
              "array([[1., 0., 1., 0., 0., 0.],\n",
              "       [1., 1., 0., 0., 0., 0.],\n",
              "       [1., 0., 1., 0., 0., 0.],\n",
              "       [0., 0., 0., 1., 1., 0.],\n",
              "       [0., 0., 0., 1., 1., 0.],\n",
              "       [0., 0., 0., 1., 0., 1.]])"
            ]
          },
          "metadata": {},
          "execution_count": 46
        }
      ]
    },
    {
      "cell_type": "markdown",
      "source": [
        "## HNSW"
      ],
      "metadata": {
        "id": "-PDB_euTjqJw"
      }
    },
    {
      "cell_type": "code",
      "source": [
        "!pip install n2"
      ],
      "metadata": {
        "colab": {
          "base_uri": "https://localhost:8080/"
        },
        "id": "nw_0twU4eoOx",
        "outputId": "08f110f8-18c5-479c-afb8-68af95f8f178"
      },
      "execution_count": null,
      "outputs": [
        {
          "output_type": "stream",
          "name": "stdout",
          "text": [
            "Looking in indexes: https://pypi.org/simple, https://us-python.pkg.dev/colab-wheels/public/simple/\n",
            "Collecting n2\n",
            "  Downloading n2-0.1.7.tar.gz (8.6 MB)\n",
            "\u001b[K     |████████████████████████████████| 8.6 MB 26.5 MB/s \n",
            "\u001b[?25hRequirement already satisfied: cython in /usr/local/lib/python3.7/dist-packages (from n2) (0.29.32)\n",
            "Building wheels for collected packages: n2\n",
            "  Building wheel for n2 (setup.py) ... \u001b[?25l\u001b[?25hdone\n",
            "  Created wheel for n2: filename=n2-0.1.7-cp37-cp37m-linux_x86_64.whl size=2299813 sha256=4b9718721050006d7a22de42019445736e439d690d1d83da030dd1b02a3e2cd1\n",
            "  Stored in directory: /root/.cache/pip/wheels/36/da/12/b157ca1c9dcdd5fd3fa5e15b7823f805396fb6e6b30427465a\n",
            "Successfully built n2\n",
            "Installing collected packages: n2\n",
            "Successfully installed n2-0.1.7\n"
          ]
        }
      ]
    },
    {
      "cell_type": "code",
      "source": [
        "# Importing Libraries \n",
        "import numpy as np\n",
        "from n2 import HnswIndex\n",
        "\n",
        "# Loading data\n",
        "Values, reference = 20240, 20\n",
        "hnsw_data = np.arange(Values * reference).reshape(Values, reference)\n",
        "\n",
        "# Applying HNSW approach\n",
        "hnsw_index_data = HnswIndex(reference)\n",
        "for data in hnsw_data:\n",
        "    hnsw_index_data.add_data(data)\n",
        "hnsw_index_data.build(m=5, n_threads=3)\n",
        "print(hnsw_index_data.search_by_id(20, 36))"
      ],
      "metadata": {
        "colab": {
          "base_uri": "https://localhost:8080/"
        },
        "id": "VzxGXjFteoMI",
        "outputId": "adc0721e-036b-4a7e-c4fa-630aa55f1ca2"
      },
      "execution_count": null,
      "outputs": [
        {
          "output_type": "stream",
          "name": "stdout",
          "text": [
            "[20, 21, 19, 22, 18, 23, 24, 17, 25, 26, 16, 27, 28, 29, 15, 30, 31, 32, 33, 34, 14, 35, 36, 37, 38, 39, 40, 41, 42, 13, 43, 44, 45, 46, 47, 48]\n"
          ]
        }
      ]
    }
  ]
}